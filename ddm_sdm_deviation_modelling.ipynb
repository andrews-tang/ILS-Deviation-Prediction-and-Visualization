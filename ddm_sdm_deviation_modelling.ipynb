{
 "cells": [
  {
   "cell_type": "code",
   "execution_count": 1,
   "id": "930bf2f1",
   "metadata": {},
   "outputs": [],
   "source": [
    "import pandas as pd"
   ]
  },
  {
   "cell_type": "code",
   "execution_count": 4,
   "id": "972ed0c1",
   "metadata": {},
   "outputs": [
    {
     "data": {
      "text/html": [
       "<div>\n",
       "<style scoped>\n",
       "    .dataframe tbody tr th:only-of-type {\n",
       "        vertical-align: middle;\n",
       "    }\n",
       "\n",
       "    .dataframe tbody tr th {\n",
       "        vertical-align: top;\n",
       "    }\n",
       "\n",
       "    .dataframe thead th {\n",
       "        text-align: right;\n",
       "    }\n",
       "</style>\n",
       "<table border=\"1\" class=\"dataframe\">\n",
       "  <thead>\n",
       "    <tr style=\"text-align: right;\">\n",
       "      <th></th>\n",
       "      <th>GROUND CHECKS - LOCALIZER                              FREQUENCY - 108.90 MHz</th>\n",
       "      <th>Unnamed: 1</th>\n",
       "      <th>Unnamed: 2</th>\n",
       "      <th>Unnamed: 3</th>\n",
       "      <th>Unnamed: 4</th>\n",
       "      <th>Unnamed: 5</th>\n",
       "      <th>Unnamed: 6</th>\n",
       "      <th>Unnamed: 7</th>\n",
       "      <th>Unnamed: 8</th>\n",
       "      <th>Unnamed: 9</th>\n",
       "      <th>Unnamed: 10</th>\n",
       "    </tr>\n",
       "  </thead>\n",
       "  <tbody>\n",
       "    <tr>\n",
       "      <th>0</th>\n",
       "      <td>TX1</td>\n",
       "      <td>NaN</td>\n",
       "      <td>POINTS</td>\n",
       "      <td>TX2</td>\n",
       "      <td>NaN</td>\n",
       "      <td>NaN</td>\n",
       "      <td>rTX1</td>\n",
       "      <td>NaN</td>\n",
       "      <td>POINTS</td>\n",
       "      <td>rTX2</td>\n",
       "      <td>NaN</td>\n",
       "    </tr>\n",
       "    <tr>\n",
       "      <th>1</th>\n",
       "      <td>DDM</td>\n",
       "      <td>SDM</td>\n",
       "      <td>ANGLE</td>\n",
       "      <td>DDM</td>\n",
       "      <td>SDM</td>\n",
       "      <td>NaN</td>\n",
       "      <td>DDM</td>\n",
       "      <td>SDM</td>\n",
       "      <td>ANGLE</td>\n",
       "      <td>DDM</td>\n",
       "      <td>SDM</td>\n",
       "    </tr>\n",
       "    <tr>\n",
       "      <th>2</th>\n",
       "      <td>30.18</td>\n",
       "      <td>39.74</td>\n",
       "      <td>35</td>\n",
       "      <td>27.8</td>\n",
       "      <td>39.52</td>\n",
       "      <td>NaN</td>\n",
       "      <td>35.13</td>\n",
       "      <td>40.03</td>\n",
       "      <td>35</td>\n",
       "      <td>33.62</td>\n",
       "      <td>39.77</td>\n",
       "    </tr>\n",
       "    <tr>\n",
       "      <th>3</th>\n",
       "      <td>26.93</td>\n",
       "      <td>40.1</td>\n",
       "      <td>30</td>\n",
       "      <td>26.55</td>\n",
       "      <td>39.99</td>\n",
       "      <td>NaN</td>\n",
       "      <td>26.93</td>\n",
       "      <td>40.04</td>\n",
       "      <td>30</td>\n",
       "      <td>26.79</td>\n",
       "      <td>39.93</td>\n",
       "    </tr>\n",
       "    <tr>\n",
       "      <th>4</th>\n",
       "      <td>23.43</td>\n",
       "      <td>40.07</td>\n",
       "      <td>25</td>\n",
       "      <td>24.87</td>\n",
       "      <td>40.08</td>\n",
       "      <td>NaN</td>\n",
       "      <td>22.85</td>\n",
       "      <td>40.01</td>\n",
       "      <td>25</td>\n",
       "      <td>24.09</td>\n",
       "      <td>40.12</td>\n",
       "    </tr>\n",
       "  </tbody>\n",
       "</table>\n",
       "</div>"
      ],
      "text/plain": [
       "  GROUND CHECKS - LOCALIZER                              FREQUENCY - 108.90 MHz  \\\n",
       "0                                                TX1                              \n",
       "1                                                DDM                              \n",
       "2                                              30.18                              \n",
       "3                                              26.93                              \n",
       "4                                              23.43                              \n",
       "\n",
       "  Unnamed: 1 Unnamed: 2 Unnamed: 3 Unnamed: 4  Unnamed: 5 Unnamed: 6  \\\n",
       "0        NaN     POINTS        TX2        NaN         NaN       rTX1   \n",
       "1        SDM      ANGLE        DDM        SDM         NaN        DDM   \n",
       "2      39.74         35       27.8      39.52         NaN      35.13   \n",
       "3       40.1         30      26.55      39.99         NaN      26.93   \n",
       "4      40.07         25      24.87      40.08         NaN      22.85   \n",
       "\n",
       "  Unnamed: 7 Unnamed: 8 Unnamed: 9 Unnamed: 10  \n",
       "0        NaN     POINTS       rTX2         NaN  \n",
       "1        SDM      ANGLE        DDM         SDM  \n",
       "2      40.03         35      33.62       39.77  \n",
       "3      40.04         30      26.79       39.93  \n",
       "4      40.01         25      24.09       40.12  "
      ]
     },
     "execution_count": 4,
     "metadata": {},
     "output_type": "execute_result"
    }
   ],
   "source": [
    "data1 = pd.read_excel('../../Datasets/2022 Ground Checks - Localizer.xlsx')\n",
    "data1.head()"
   ]
  },
  {
   "cell_type": "code",
   "execution_count": 5,
   "id": "165be7aa",
   "metadata": {},
   "outputs": [
    {
     "data": {
      "text/plain": [
       "Index(['GROUND CHECKS - LOCALIZER                              FREQUENCY - 108.90 MHz',\n",
       "       'Unnamed: 1', 'Unnamed: 2', 'Unnamed: 3', 'Unnamed: 4', 'Unnamed: 5',\n",
       "       'Unnamed: 6', 'Unnamed: 7', 'Unnamed: 8', 'Unnamed: 9', 'Unnamed: 10'],\n",
       "      dtype='object')"
      ]
     },
     "execution_count": 5,
     "metadata": {},
     "output_type": "execute_result"
    }
   ],
   "source": [
    "data1.columns"
   ]
  },
  {
   "cell_type": "code",
   "execution_count": 11,
   "id": "223b02db",
   "metadata": {},
   "outputs": [
    {
     "data": {
      "text/plain": [
       "GROUND CHECKS - LOCALIZER                              FREQUENCY - 108.90 MHz      DDM\n",
       "Unnamed: 1                                                                         SDM\n",
       "Unnamed: 2                                                                       ANGLE\n",
       "Unnamed: 3                                                                         DDM\n",
       "Unnamed: 4                                                                         SDM\n",
       "Unnamed: 5                                                                         NaN\n",
       "Unnamed: 6                                                                         DDM\n",
       "Unnamed: 7                                                                         SDM\n",
       "Unnamed: 8                                                                       ANGLE\n",
       "Unnamed: 9                                                                         DDM\n",
       "Unnamed: 10                                                                        SDM\n",
       "Name: 1, dtype: object"
      ]
     },
     "execution_count": 11,
     "metadata": {},
     "output_type": "execute_result"
    }
   ],
   "source": [
    "header = data1.iloc[1]\n",
    "header"
   ]
  },
  {
   "cell_type": "code",
   "execution_count": 12,
   "id": "aee6dc75",
   "metadata": {},
   "outputs": [],
   "source": [
    "data1.columns = header"
   ]
  },
  {
   "cell_type": "code",
   "execution_count": 14,
   "id": "1980b2d6",
   "metadata": {},
   "outputs": [
    {
     "data": {
      "text/html": [
       "<div>\n",
       "<style scoped>\n",
       "    .dataframe tbody tr th:only-of-type {\n",
       "        vertical-align: middle;\n",
       "    }\n",
       "\n",
       "    .dataframe tbody tr th {\n",
       "        vertical-align: top;\n",
       "    }\n",
       "\n",
       "    .dataframe thead th {\n",
       "        text-align: right;\n",
       "    }\n",
       "</style>\n",
       "<table border=\"1\" class=\"dataframe\">\n",
       "  <thead>\n",
       "    <tr style=\"text-align: right;\">\n",
       "      <th>1</th>\n",
       "      <th>DDM</th>\n",
       "      <th>SDM</th>\n",
       "      <th>ANGLE</th>\n",
       "      <th>DDM</th>\n",
       "      <th>SDM</th>\n",
       "      <th>NaN</th>\n",
       "      <th>DDM</th>\n",
       "      <th>SDM</th>\n",
       "      <th>ANGLE</th>\n",
       "      <th>DDM</th>\n",
       "      <th>SDM</th>\n",
       "    </tr>\n",
       "  </thead>\n",
       "  <tbody>\n",
       "    <tr>\n",
       "      <th>0</th>\n",
       "      <td>TX1</td>\n",
       "      <td>NaN</td>\n",
       "      <td>POINTS</td>\n",
       "      <td>TX2</td>\n",
       "      <td>NaN</td>\n",
       "      <td>NaN</td>\n",
       "      <td>rTX1</td>\n",
       "      <td>NaN</td>\n",
       "      <td>POINTS</td>\n",
       "      <td>rTX2</td>\n",
       "      <td>NaN</td>\n",
       "    </tr>\n",
       "    <tr>\n",
       "      <th>1</th>\n",
       "      <td>DDM</td>\n",
       "      <td>SDM</td>\n",
       "      <td>ANGLE</td>\n",
       "      <td>DDM</td>\n",
       "      <td>SDM</td>\n",
       "      <td>NaN</td>\n",
       "      <td>DDM</td>\n",
       "      <td>SDM</td>\n",
       "      <td>ANGLE</td>\n",
       "      <td>DDM</td>\n",
       "      <td>SDM</td>\n",
       "    </tr>\n",
       "    <tr>\n",
       "      <th>2</th>\n",
       "      <td>30.18</td>\n",
       "      <td>39.74</td>\n",
       "      <td>35</td>\n",
       "      <td>27.8</td>\n",
       "      <td>39.52</td>\n",
       "      <td>NaN</td>\n",
       "      <td>35.13</td>\n",
       "      <td>40.03</td>\n",
       "      <td>35</td>\n",
       "      <td>33.62</td>\n",
       "      <td>39.77</td>\n",
       "    </tr>\n",
       "    <tr>\n",
       "      <th>3</th>\n",
       "      <td>26.93</td>\n",
       "      <td>40.1</td>\n",
       "      <td>30</td>\n",
       "      <td>26.55</td>\n",
       "      <td>39.99</td>\n",
       "      <td>NaN</td>\n",
       "      <td>26.93</td>\n",
       "      <td>40.04</td>\n",
       "      <td>30</td>\n",
       "      <td>26.79</td>\n",
       "      <td>39.93</td>\n",
       "    </tr>\n",
       "    <tr>\n",
       "      <th>4</th>\n",
       "      <td>23.43</td>\n",
       "      <td>40.07</td>\n",
       "      <td>25</td>\n",
       "      <td>24.87</td>\n",
       "      <td>40.08</td>\n",
       "      <td>NaN</td>\n",
       "      <td>22.85</td>\n",
       "      <td>40.01</td>\n",
       "      <td>25</td>\n",
       "      <td>24.09</td>\n",
       "      <td>40.12</td>\n",
       "    </tr>\n",
       "    <tr>\n",
       "      <th>5</th>\n",
       "      <td>28.47</td>\n",
       "      <td>40.05</td>\n",
       "      <td>20</td>\n",
       "      <td>28.22</td>\n",
       "      <td>39.93</td>\n",
       "      <td>NaN</td>\n",
       "      <td>28.25</td>\n",
       "      <td>40.03</td>\n",
       "      <td>20</td>\n",
       "      <td>27.52</td>\n",
       "      <td>39.94</td>\n",
       "    </tr>\n",
       "    <tr>\n",
       "      <th>6</th>\n",
       "      <td>37.6</td>\n",
       "      <td>39.99</td>\n",
       "      <td>15</td>\n",
       "      <td>33.91</td>\n",
       "      <td>39.62</td>\n",
       "      <td>NaN</td>\n",
       "      <td>38.03</td>\n",
       "      <td>40.06</td>\n",
       "      <td>15</td>\n",
       "      <td>34.2</td>\n",
       "      <td>39.69</td>\n",
       "    </tr>\n",
       "    <tr>\n",
       "      <th>7</th>\n",
       "      <td>39.84</td>\n",
       "      <td>42.68</td>\n",
       "      <td>10</td>\n",
       "      <td>38.62</td>\n",
       "      <td>39.37</td>\n",
       "      <td>NaN</td>\n",
       "      <td>39.81</td>\n",
       "      <td>43.85</td>\n",
       "      <td>10</td>\n",
       "      <td>39.38</td>\n",
       "      <td>41.45</td>\n",
       "    </tr>\n",
       "    <tr>\n",
       "      <th>8</th>\n",
       "      <td>29.38</td>\n",
       "      <td>39.88</td>\n",
       "      <td>5</td>\n",
       "      <td>29.1</td>\n",
       "      <td>39.74</td>\n",
       "      <td>NaN</td>\n",
       "      <td>28.31</td>\n",
       "      <td>39.58</td>\n",
       "      <td>5</td>\n",
       "      <td>27.9</td>\n",
       "      <td>39.5</td>\n",
       "    </tr>\n",
       "    <tr>\n",
       "      <th>9</th>\n",
       "      <td>22.35</td>\n",
       "      <td>39.88</td>\n",
       "      <td>4</td>\n",
       "      <td>22.21</td>\n",
       "      <td>39.77</td>\n",
       "      <td>NaN</td>\n",
       "      <td>20.92</td>\n",
       "      <td>39.73</td>\n",
       "      <td>4</td>\n",
       "      <td>21.03</td>\n",
       "      <td>39.66</td>\n",
       "    </tr>\n",
       "  </tbody>\n",
       "</table>\n",
       "</div>"
      ],
      "text/plain": [
       "1    DDM    SDM   ANGLE    DDM    SDM  NaN    DDM    SDM   ANGLE    DDM    SDM\n",
       "0    TX1    NaN  POINTS    TX2    NaN  NaN   rTX1    NaN  POINTS   rTX2    NaN\n",
       "1    DDM    SDM   ANGLE    DDM    SDM  NaN    DDM    SDM   ANGLE    DDM    SDM\n",
       "2  30.18  39.74      35   27.8  39.52  NaN  35.13  40.03      35  33.62  39.77\n",
       "3  26.93   40.1      30  26.55  39.99  NaN  26.93  40.04      30  26.79  39.93\n",
       "4  23.43  40.07      25  24.87  40.08  NaN  22.85  40.01      25  24.09  40.12\n",
       "5  28.47  40.05      20  28.22  39.93  NaN  28.25  40.03      20  27.52  39.94\n",
       "6   37.6  39.99      15  33.91  39.62  NaN  38.03  40.06      15   34.2  39.69\n",
       "7  39.84  42.68      10  38.62  39.37  NaN  39.81  43.85      10  39.38  41.45\n",
       "8  29.38  39.88       5   29.1  39.74  NaN  28.31  39.58       5   27.9   39.5\n",
       "9  22.35  39.88       4  22.21  39.77  NaN  20.92  39.73       4  21.03  39.66"
      ]
     },
     "execution_count": 14,
     "metadata": {},
     "output_type": "execute_result"
    }
   ],
   "source": [
    "data1.head(10)"
   ]
  },
  {
   "cell_type": "code",
   "execution_count": 17,
   "id": "5c14b1f6",
   "metadata": {},
   "outputs": [],
   "source": [
    "data1 = data1.drop([0,1], axis=0)"
   ]
  },
  {
   "cell_type": "code",
   "execution_count": 18,
   "id": "74d48912",
   "metadata": {},
   "outputs": [
    {
     "data": {
      "text/html": [
       "<div>\n",
       "<style scoped>\n",
       "    .dataframe tbody tr th:only-of-type {\n",
       "        vertical-align: middle;\n",
       "    }\n",
       "\n",
       "    .dataframe tbody tr th {\n",
       "        vertical-align: top;\n",
       "    }\n",
       "\n",
       "    .dataframe thead th {\n",
       "        text-align: right;\n",
       "    }\n",
       "</style>\n",
       "<table border=\"1\" class=\"dataframe\">\n",
       "  <thead>\n",
       "    <tr style=\"text-align: right;\">\n",
       "      <th>1</th>\n",
       "      <th>DDM</th>\n",
       "      <th>SDM</th>\n",
       "      <th>ANGLE</th>\n",
       "      <th>DDM</th>\n",
       "      <th>SDM</th>\n",
       "      <th>NaN</th>\n",
       "      <th>DDM</th>\n",
       "      <th>SDM</th>\n",
       "      <th>ANGLE</th>\n",
       "      <th>DDM</th>\n",
       "      <th>SDM</th>\n",
       "    </tr>\n",
       "  </thead>\n",
       "  <tbody>\n",
       "    <tr>\n",
       "      <th>2</th>\n",
       "      <td>30.18</td>\n",
       "      <td>39.74</td>\n",
       "      <td>35</td>\n",
       "      <td>27.8</td>\n",
       "      <td>39.52</td>\n",
       "      <td>NaN</td>\n",
       "      <td>35.13</td>\n",
       "      <td>40.03</td>\n",
       "      <td>35</td>\n",
       "      <td>33.62</td>\n",
       "      <td>39.77</td>\n",
       "    </tr>\n",
       "    <tr>\n",
       "      <th>3</th>\n",
       "      <td>26.93</td>\n",
       "      <td>40.1</td>\n",
       "      <td>30</td>\n",
       "      <td>26.55</td>\n",
       "      <td>39.99</td>\n",
       "      <td>NaN</td>\n",
       "      <td>26.93</td>\n",
       "      <td>40.04</td>\n",
       "      <td>30</td>\n",
       "      <td>26.79</td>\n",
       "      <td>39.93</td>\n",
       "    </tr>\n",
       "    <tr>\n",
       "      <th>4</th>\n",
       "      <td>23.43</td>\n",
       "      <td>40.07</td>\n",
       "      <td>25</td>\n",
       "      <td>24.87</td>\n",
       "      <td>40.08</td>\n",
       "      <td>NaN</td>\n",
       "      <td>22.85</td>\n",
       "      <td>40.01</td>\n",
       "      <td>25</td>\n",
       "      <td>24.09</td>\n",
       "      <td>40.12</td>\n",
       "    </tr>\n",
       "    <tr>\n",
       "      <th>5</th>\n",
       "      <td>28.47</td>\n",
       "      <td>40.05</td>\n",
       "      <td>20</td>\n",
       "      <td>28.22</td>\n",
       "      <td>39.93</td>\n",
       "      <td>NaN</td>\n",
       "      <td>28.25</td>\n",
       "      <td>40.03</td>\n",
       "      <td>20</td>\n",
       "      <td>27.52</td>\n",
       "      <td>39.94</td>\n",
       "    </tr>\n",
       "    <tr>\n",
       "      <th>6</th>\n",
       "      <td>37.6</td>\n",
       "      <td>39.99</td>\n",
       "      <td>15</td>\n",
       "      <td>33.91</td>\n",
       "      <td>39.62</td>\n",
       "      <td>NaN</td>\n",
       "      <td>38.03</td>\n",
       "      <td>40.06</td>\n",
       "      <td>15</td>\n",
       "      <td>34.2</td>\n",
       "      <td>39.69</td>\n",
       "    </tr>\n",
       "  </tbody>\n",
       "</table>\n",
       "</div>"
      ],
      "text/plain": [
       "1    DDM    SDM ANGLE    DDM    SDM  NaN    DDM    SDM ANGLE    DDM    SDM\n",
       "2  30.18  39.74    35   27.8  39.52  NaN  35.13  40.03    35  33.62  39.77\n",
       "3  26.93   40.1    30  26.55  39.99  NaN  26.93  40.04    30  26.79  39.93\n",
       "4  23.43  40.07    25  24.87  40.08  NaN  22.85  40.01    25  24.09  40.12\n",
       "5  28.47  40.05    20  28.22  39.93  NaN  28.25  40.03    20  27.52  39.94\n",
       "6   37.6  39.99    15  33.91  39.62  NaN  38.03  40.06    15   34.2  39.69"
      ]
     },
     "execution_count": 18,
     "metadata": {},
     "output_type": "execute_result"
    }
   ],
   "source": [
    "data1.head()"
   ]
  },
  {
   "cell_type": "code",
   "execution_count": 23,
   "id": "788a1968",
   "metadata": {},
   "outputs": [
    {
     "data": {
      "text/plain": [
       "Index(['DDM', 'SDM', 'ANGLE', 'DDM', 'SDM', nan, 'DDM', 'SDM', 'ANGLE', 'DDM',\n",
       "       'SDM'],\n",
       "      dtype='object', name=1)"
      ]
     },
     "execution_count": 23,
     "metadata": {},
     "output_type": "execute_result"
    }
   ],
   "source": [
    "data1.columns"
   ]
  },
  {
   "cell_type": "code",
   "execution_count": 29,
   "id": "815169dc",
   "metadata": {},
   "outputs": [
    {
     "data": {
      "text/plain": [
       "numpy.float64"
      ]
     },
     "execution_count": 29,
     "metadata": {},
     "output_type": "execute_result"
    }
   ],
   "source": [
    "type(data1.columns[5])"
   ]
  },
  {
   "cell_type": "code",
   "execution_count": 31,
   "id": "d82ae432",
   "metadata": {},
   "outputs": [],
   "source": [
    "nan_columns = data1.columns[pd.isnull(data1.columns)]"
   ]
  },
  {
   "cell_type": "code",
   "execution_count": 32,
   "id": "5c90f80e",
   "metadata": {},
   "outputs": [
    {
     "data": {
      "text/plain": [
       "Index([nan], dtype='object', name=1)"
      ]
     },
     "execution_count": 32,
     "metadata": {},
     "output_type": "execute_result"
    }
   ],
   "source": [
    "nan_columns"
   ]
  },
  {
   "cell_type": "code",
   "execution_count": 35,
   "id": "761f9eb2",
   "metadata": {},
   "outputs": [
    {
     "ename": "KeyError",
     "evalue": "'[nan] not found in axis'",
     "output_type": "error",
     "traceback": [
      "\u001b[0;31m---------------------------------------------------------------------------\u001b[0m",
      "\u001b[0;31mKeyError\u001b[0m                                  Traceback (most recent call last)",
      "\u001b[0;32m/tmp/ipykernel_34261/4193800498.py\u001b[0m in \u001b[0;36m?\u001b[0;34m()\u001b[0m\n\u001b[0;32m----> 1\u001b[0;31m \u001b[0mdata1\u001b[0m\u001b[0;34m.\u001b[0m\u001b[0mdrop\u001b[0m\u001b[0;34m(\u001b[0m\u001b[0mcolumns\u001b[0m\u001b[0;34m=\u001b[0m\u001b[0mnan_columns\u001b[0m\u001b[0;34m,\u001b[0m \u001b[0minplace\u001b[0m\u001b[0;34m=\u001b[0m\u001b[0;32mTrue\u001b[0m\u001b[0;34m)\u001b[0m\u001b[0;34m\u001b[0m\u001b[0;34m\u001b[0m\u001b[0m\n\u001b[0m",
      "\u001b[0;32m/usr/lib/python3/dist-packages/pandas/util/_decorators.py\u001b[0m in \u001b[0;36m?\u001b[0;34m(*args, **kwargs)\u001b[0m\n\u001b[1;32m    307\u001b[0m                     \u001b[0mmsg\u001b[0m\u001b[0;34m.\u001b[0m\u001b[0mformat\u001b[0m\u001b[0;34m(\u001b[0m\u001b[0marguments\u001b[0m\u001b[0;34m=\u001b[0m\u001b[0marguments\u001b[0m\u001b[0;34m)\u001b[0m\u001b[0;34m,\u001b[0m\u001b[0;34m\u001b[0m\u001b[0;34m\u001b[0m\u001b[0m\n\u001b[1;32m    308\u001b[0m                     \u001b[0mFutureWarning\u001b[0m\u001b[0;34m,\u001b[0m\u001b[0;34m\u001b[0m\u001b[0;34m\u001b[0m\u001b[0m\n\u001b[1;32m    309\u001b[0m                     \u001b[0mstacklevel\u001b[0m\u001b[0;34m=\u001b[0m\u001b[0mstacklevel\u001b[0m\u001b[0;34m,\u001b[0m\u001b[0;34m\u001b[0m\u001b[0;34m\u001b[0m\u001b[0m\n\u001b[1;32m    310\u001b[0m                 )\n\u001b[0;32m--> 311\u001b[0;31m             \u001b[0;32mreturn\u001b[0m \u001b[0mfunc\u001b[0m\u001b[0;34m(\u001b[0m\u001b[0;34m*\u001b[0m\u001b[0margs\u001b[0m\u001b[0;34m,\u001b[0m \u001b[0;34m**\u001b[0m\u001b[0mkwargs\u001b[0m\u001b[0;34m)\u001b[0m\u001b[0;34m\u001b[0m\u001b[0;34m\u001b[0m\u001b[0m\n\u001b[0m",
      "\u001b[0;32m/usr/lib/python3/dist-packages/pandas/core/frame.py\u001b[0m in \u001b[0;36m?\u001b[0;34m(self, labels, axis, index, columns, level, inplace, errors)\u001b[0m\n\u001b[1;32m   4902\u001b[0m                 \u001b[0mweight\u001b[0m  \u001b[0;36m250.0\u001b[0m   \u001b[0;36m150.0\u001b[0m\u001b[0;34m\u001b[0m\u001b[0;34m\u001b[0m\u001b[0m\n\u001b[1;32m   4903\u001b[0m         \u001b[0mfalcon\u001b[0m  \u001b[0mspeed\u001b[0m   \u001b[0;36m320.0\u001b[0m   \u001b[0;36m250.0\u001b[0m\u001b[0;34m\u001b[0m\u001b[0;34m\u001b[0m\u001b[0m\n\u001b[1;32m   4904\u001b[0m                 \u001b[0mweight\u001b[0m  \u001b[0;36m1.0\u001b[0m     \u001b[0;36m0.8\u001b[0m\u001b[0;34m\u001b[0m\u001b[0;34m\u001b[0m\u001b[0m\n\u001b[1;32m   4905\u001b[0m         \"\"\"\n\u001b[0;32m-> 4906\u001b[0;31m         return super().drop(\n\u001b[0m\u001b[1;32m   4907\u001b[0m             \u001b[0mlabels\u001b[0m\u001b[0;34m=\u001b[0m\u001b[0mlabels\u001b[0m\u001b[0;34m,\u001b[0m\u001b[0;34m\u001b[0m\u001b[0;34m\u001b[0m\u001b[0m\n\u001b[1;32m   4908\u001b[0m             \u001b[0maxis\u001b[0m\u001b[0;34m=\u001b[0m\u001b[0maxis\u001b[0m\u001b[0;34m,\u001b[0m\u001b[0;34m\u001b[0m\u001b[0;34m\u001b[0m\u001b[0m\n\u001b[1;32m   4909\u001b[0m             \u001b[0mindex\u001b[0m\u001b[0;34m=\u001b[0m\u001b[0mindex\u001b[0m\u001b[0;34m,\u001b[0m\u001b[0;34m\u001b[0m\u001b[0;34m\u001b[0m\u001b[0m\n",
      "\u001b[0;32m/usr/lib/python3/dist-packages/pandas/core/generic.py\u001b[0m in \u001b[0;36m?\u001b[0;34m(self, labels, axis, index, columns, level, inplace, errors)\u001b[0m\n\u001b[1;32m   4146\u001b[0m         \u001b[0mobj\u001b[0m \u001b[0;34m=\u001b[0m \u001b[0mself\u001b[0m\u001b[0;34m\u001b[0m\u001b[0;34m\u001b[0m\u001b[0m\n\u001b[1;32m   4147\u001b[0m \u001b[0;34m\u001b[0m\u001b[0m\n\u001b[1;32m   4148\u001b[0m         \u001b[0;32mfor\u001b[0m \u001b[0maxis\u001b[0m\u001b[0;34m,\u001b[0m \u001b[0mlabels\u001b[0m \u001b[0;32min\u001b[0m \u001b[0maxes\u001b[0m\u001b[0;34m.\u001b[0m\u001b[0mitems\u001b[0m\u001b[0;34m(\u001b[0m\u001b[0;34m)\u001b[0m\u001b[0;34m:\u001b[0m\u001b[0;34m\u001b[0m\u001b[0;34m\u001b[0m\u001b[0m\n\u001b[1;32m   4149\u001b[0m             \u001b[0;32mif\u001b[0m \u001b[0mlabels\u001b[0m \u001b[0;32mis\u001b[0m \u001b[0;32mnot\u001b[0m \u001b[0;32mNone\u001b[0m\u001b[0;34m:\u001b[0m\u001b[0;34m\u001b[0m\u001b[0;34m\u001b[0m\u001b[0m\n\u001b[0;32m-> 4150\u001b[0;31m                 \u001b[0mobj\u001b[0m \u001b[0;34m=\u001b[0m \u001b[0mobj\u001b[0m\u001b[0;34m.\u001b[0m\u001b[0m_drop_axis\u001b[0m\u001b[0;34m(\u001b[0m\u001b[0mlabels\u001b[0m\u001b[0;34m,\u001b[0m \u001b[0maxis\u001b[0m\u001b[0;34m,\u001b[0m \u001b[0mlevel\u001b[0m\u001b[0;34m=\u001b[0m\u001b[0mlevel\u001b[0m\u001b[0;34m,\u001b[0m \u001b[0merrors\u001b[0m\u001b[0;34m=\u001b[0m\u001b[0merrors\u001b[0m\u001b[0;34m)\u001b[0m\u001b[0;34m\u001b[0m\u001b[0;34m\u001b[0m\u001b[0m\n\u001b[0m\u001b[1;32m   4151\u001b[0m \u001b[0;34m\u001b[0m\u001b[0m\n\u001b[1;32m   4152\u001b[0m         \u001b[0;32mif\u001b[0m \u001b[0minplace\u001b[0m\u001b[0;34m:\u001b[0m\u001b[0;34m\u001b[0m\u001b[0;34m\u001b[0m\u001b[0m\n\u001b[1;32m   4153\u001b[0m             \u001b[0mself\u001b[0m\u001b[0;34m.\u001b[0m\u001b[0m_update_inplace\u001b[0m\u001b[0;34m(\u001b[0m\u001b[0mobj\u001b[0m\u001b[0;34m)\u001b[0m\u001b[0;34m\u001b[0m\u001b[0;34m\u001b[0m\u001b[0m\n",
      "\u001b[0;32m/usr/lib/python3/dist-packages/pandas/core/generic.py\u001b[0m in \u001b[0;36m?\u001b[0;34m(self, labels, axis, level, errors)\u001b[0m\n\u001b[1;32m   4210\u001b[0m                 \u001b[0mindexer\u001b[0m \u001b[0;34m=\u001b[0m \u001b[0;34m~\u001b[0m\u001b[0maxis\u001b[0m\u001b[0;34m.\u001b[0m\u001b[0misin\u001b[0m\u001b[0;34m(\u001b[0m\u001b[0mlabels\u001b[0m\u001b[0;34m)\u001b[0m\u001b[0;34m\u001b[0m\u001b[0;34m\u001b[0m\u001b[0m\n\u001b[1;32m   4211\u001b[0m                 \u001b[0;31m# Check if label doesn't exist along axis\u001b[0m\u001b[0;34m\u001b[0m\u001b[0;34m\u001b[0m\u001b[0m\n\u001b[1;32m   4212\u001b[0m                 \u001b[0mlabels_missing\u001b[0m \u001b[0;34m=\u001b[0m \u001b[0;34m(\u001b[0m\u001b[0maxis\u001b[0m\u001b[0;34m.\u001b[0m\u001b[0mget_indexer_for\u001b[0m\u001b[0;34m(\u001b[0m\u001b[0mlabels\u001b[0m\u001b[0;34m)\u001b[0m \u001b[0;34m==\u001b[0m \u001b[0;34m-\u001b[0m\u001b[0;36m1\u001b[0m\u001b[0;34m)\u001b[0m\u001b[0;34m.\u001b[0m\u001b[0many\u001b[0m\u001b[0;34m(\u001b[0m\u001b[0;34m)\u001b[0m\u001b[0;34m\u001b[0m\u001b[0;34m\u001b[0m\u001b[0m\n\u001b[1;32m   4213\u001b[0m                 \u001b[0;32mif\u001b[0m \u001b[0merrors\u001b[0m \u001b[0;34m==\u001b[0m \u001b[0;34m\"raise\"\u001b[0m \u001b[0;32mand\u001b[0m \u001b[0mlabels_missing\u001b[0m\u001b[0;34m:\u001b[0m\u001b[0;34m\u001b[0m\u001b[0;34m\u001b[0m\u001b[0m\n\u001b[0;32m-> 4214\u001b[0;31m                     \u001b[0;32mraise\u001b[0m \u001b[0mKeyError\u001b[0m\u001b[0;34m(\u001b[0m\u001b[0;34mf\"{labels} not found in axis\"\u001b[0m\u001b[0;34m)\u001b[0m\u001b[0;34m\u001b[0m\u001b[0;34m\u001b[0m\u001b[0m\n\u001b[0m\u001b[1;32m   4215\u001b[0m \u001b[0;34m\u001b[0m\u001b[0m\n\u001b[1;32m   4216\u001b[0m             \u001b[0mslicer\u001b[0m \u001b[0;34m=\u001b[0m \u001b[0;34m[\u001b[0m\u001b[0mslice\u001b[0m\u001b[0;34m(\u001b[0m\u001b[0;32mNone\u001b[0m\u001b[0;34m)\u001b[0m\u001b[0;34m]\u001b[0m \u001b[0;34m*\u001b[0m \u001b[0mself\u001b[0m\u001b[0;34m.\u001b[0m\u001b[0mndim\u001b[0m\u001b[0;34m\u001b[0m\u001b[0;34m\u001b[0m\u001b[0m\n\u001b[1;32m   4217\u001b[0m             \u001b[0mslicer\u001b[0m\u001b[0;34m[\u001b[0m\u001b[0mself\u001b[0m\u001b[0;34m.\u001b[0m\u001b[0m_get_axis_number\u001b[0m\u001b[0;34m(\u001b[0m\u001b[0maxis_name\u001b[0m\u001b[0;34m)\u001b[0m\u001b[0;34m]\u001b[0m \u001b[0;34m=\u001b[0m \u001b[0mindexer\u001b[0m\u001b[0;34m\u001b[0m\u001b[0;34m\u001b[0m\u001b[0m\n",
      "\u001b[0;31mKeyError\u001b[0m: '[nan] not found in axis'"
     ]
    }
   ],
   "source": [
    "data1.drop(columns=nan_columns, inplace=True)"
   ]
  },
  {
   "cell_type": "code",
   "execution_count": null,
   "id": "d433c9f6",
   "metadata": {},
   "outputs": [],
   "source": []
  }
 ],
 "metadata": {
  "kernelspec": {
   "display_name": "Python 3 (ipykernel)",
   "language": "python",
   "name": "python3"
  },
  "language_info": {
   "codemirror_mode": {
    "name": "ipython",
    "version": 3
   },
   "file_extension": ".py",
   "mimetype": "text/x-python",
   "name": "python",
   "nbconvert_exporter": "python",
   "pygments_lexer": "ipython3",
   "version": "3.10.12"
  }
 },
 "nbformat": 4,
 "nbformat_minor": 5
}
